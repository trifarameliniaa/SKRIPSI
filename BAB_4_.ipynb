{
  "nbformat": 4,
  "nbformat_minor": 0,
  "metadata": {
    "colab": {
      "name": "BAB 4 .ipynb",
      "provenance": [],
      "authorship_tag": "ABX9TyOpu7iXM/rT70cFrD1Dl5oi",
      "include_colab_link": true
    },
    "kernelspec": {
      "name": "python3",
      "display_name": "Python 3"
    },
    "language_info": {
      "name": "python"
    }
  },
  "cells": [
    {
      "cell_type": "markdown",
      "metadata": {
        "id": "view-in-github",
        "colab_type": "text"
      },
      "source": [
        "<a href=\"https://colab.research.google.com/github/trifarameliniaa/SKRIPSI/blob/main/BAB_4_.ipynb\" target=\"_parent\"><img src=\"https://colab.research.google.com/assets/colab-badge.svg\" alt=\"Open In Colab\"/></a>"
      ]
    },
    {
      "cell_type": "markdown",
      "source": [
        "# Package Starter kit"
      ],
      "metadata": {
        "id": "M57qBWXz49Os"
      }
    },
    {
      "cell_type": "code",
      "source": [
        "from PIL import Image\n",
        "import PIL.ImageOps"
      ],
      "metadata": {
        "id": "dtvhUxNTaHEZ"
      },
      "execution_count": 1,
      "outputs": []
    },
    {
      "cell_type": "markdown",
      "source": [
        "# Mengenal Data Citra"
      ],
      "metadata": {
        "id": "CoZRm7iy3oeR"
      }
    },
    {
      "cell_type": "code",
      "execution_count": 3,
      "metadata": {
        "id": "I2kc4TixYTVK"
      },
      "outputs": [],
      "source": [
        "import numpy as np\n",
        "import matplotlib.pyplot as plt\n",
        "import cv2"
      ]
    },
    {
      "cell_type": "markdown",
      "source": [
        "## konversi image to matriks"
      ],
      "metadata": {
        "id": "blZYIEYS3xpN"
      }
    },
    {
      "cell_type": "code",
      "source": [
        "img= cv2.imread('/content/penyakit-daun-tanaman.jpg')\n",
        "print(img)"
      ],
      "metadata": {
        "id": "YuyUSQ70Ysb_",
        "colab": {
          "base_uri": "https://localhost:8080/"
        },
        "outputId": "81339497-8a7e-42fc-cf7a-614662fbedc4"
      },
      "execution_count": 12,
      "outputs": [
        {
          "output_type": "stream",
          "name": "stdout",
          "text": [
            "[[[14 71 40]\n",
            "  [13 70 39]\n",
            "  [15 69 39]\n",
            "  ...\n",
            "  [ 6 44 26]\n",
            "  [ 6 44 26]\n",
            "  [ 6 44 26]]\n",
            "\n",
            " [[14 71 40]\n",
            "  [14 71 40]\n",
            "  [15 69 39]\n",
            "  ...\n",
            "  [ 5 44 23]\n",
            "  [ 5 43 25]\n",
            "  [ 5 43 25]]\n",
            "\n",
            " [[15 72 41]\n",
            "  [14 71 40]\n",
            "  [14 71 40]\n",
            "  ...\n",
            "  [ 5 44 23]\n",
            "  [ 5 43 25]\n",
            "  [ 5 43 25]]\n",
            "\n",
            " ...\n",
            "\n",
            " [[ 1 56 11]\n",
            "  [ 0 56 11]\n",
            "  [ 0 55 10]\n",
            "  ...\n",
            "  [24 62 44]\n",
            "  [24 62 44]\n",
            "  [24 61 45]]\n",
            "\n",
            " [[ 0 56 11]\n",
            "  [ 0 56 11]\n",
            "  [ 0 57 12]\n",
            "  ...\n",
            "  [22 59 43]\n",
            "  [22 59 43]\n",
            "  [22 58 44]]\n",
            "\n",
            " [[ 0 58 13]\n",
            "  [ 0 58 13]\n",
            "  [ 0 58 13]\n",
            "  ...\n",
            "  [21 57 43]\n",
            "  [22 57 43]\n",
            "  [22 56 45]]]\n"
          ]
        }
      ]
    },
    {
      "cell_type": "code",
      "source": [
        "img.size, img.shape, img.ndim"
      ],
      "metadata": {
        "colab": {
          "base_uri": "https://localhost:8080/"
        },
        "id": "eJZN3y4JZ0bd",
        "outputId": "4795a020-7b21-465b-9a21-19f7d0971bc4"
      },
      "execution_count": 11,
      "outputs": [
        {
          "output_type": "execute_result",
          "data": {
            "text/plain": [
              "(150975, (183, 275, 3), 3)"
            ]
          },
          "metadata": {},
          "execution_count": 11
        }
      ]
    },
    {
      "cell_type": "code",
      "source": [
        ""
      ],
      "metadata": {
        "colab": {
          "base_uri": "https://localhost:8080/"
        },
        "id": "CpNb5NPmbPyc",
        "outputId": "7cf8da4a-817d-4ff7-b882-dc7ffff867d3"
      },
      "execution_count": null,
      "outputs": [
        {
          "output_type": "execute_result",
          "data": {
            "text/plain": [
              "array([[[14, 71, 40],\n",
              "        [13, 70, 39],\n",
              "        [15, 69, 39],\n",
              "        ...,\n",
              "        [ 6, 44, 26],\n",
              "        [ 6, 44, 26],\n",
              "        [ 6, 44, 26]],\n",
              "\n",
              "       [[14, 71, 40],\n",
              "        [14, 71, 40],\n",
              "        [15, 69, 39],\n",
              "        ...,\n",
              "        [ 5, 44, 23],\n",
              "        [ 5, 43, 25],\n",
              "        [ 5, 43, 25]],\n",
              "\n",
              "       [[15, 72, 41],\n",
              "        [14, 71, 40],\n",
              "        [14, 71, 40],\n",
              "        ...,\n",
              "        [ 5, 44, 23],\n",
              "        [ 5, 43, 25],\n",
              "        [ 5, 43, 25]],\n",
              "\n",
              "       ...,\n",
              "\n",
              "       [[ 1, 56, 11],\n",
              "        [ 0, 56, 11],\n",
              "        [ 0, 55, 10],\n",
              "        ...,\n",
              "        [24, 62, 44],\n",
              "        [24, 62, 44],\n",
              "        [24, 61, 45]],\n",
              "\n",
              "       [[ 0, 56, 11],\n",
              "        [ 0, 56, 11],\n",
              "        [ 0, 57, 12],\n",
              "        ...,\n",
              "        [22, 59, 43],\n",
              "        [22, 59, 43],\n",
              "        [22, 58, 44]],\n",
              "\n",
              "       [[ 0, 58, 13],\n",
              "        [ 0, 58, 13],\n",
              "        [ 0, 58, 13],\n",
              "        ...,\n",
              "        [21, 57, 43],\n",
              "        [22, 57, 43],\n",
              "        [22, 56, 45]]], dtype=uint8)"
            ]
          },
          "metadata": {},
          "execution_count": 36
        }
      ]
    },
    {
      "cell_type": "markdown",
      "source": [
        "## konversi RGB to Grayscale"
      ],
      "metadata": {
        "id": "5WzcRvlg38up"
      }
    },
    {
      "cell_type": "markdown",
      "source": [
        "## Konversi Matriks to Membership Function"
      ],
      "metadata": {
        "id": "1R5HUyyO4BWg"
      }
    },
    {
      "cell_type": "markdown",
      "source": [
        "# ENTROPY"
      ],
      "metadata": {
        "id": "sL2jImHS4IgO"
      }
    },
    {
      "cell_type": "markdown",
      "source": [
        "# K-Means Klastering"
      ],
      "metadata": {
        "id": "oHbHOAQS4SnN"
      }
    },
    {
      "cell_type": "markdown",
      "source": [
        "# **Klasifikasi**"
      ],
      "metadata": {
        "id": "_irfK-3t4av2"
      }
    }
  ]
}