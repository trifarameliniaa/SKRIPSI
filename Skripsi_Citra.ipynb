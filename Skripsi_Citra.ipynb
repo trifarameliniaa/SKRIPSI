{
  "nbformat": 4,
  "nbformat_minor": 0,
  "metadata": {
    "colab": {
      "name": "Skripsi Citra.ipynb",
      "provenance": [],
      "authorship_tag": "ABX9TyPStUGEFOftlluLBSTSES5E",
      "include_colab_link": true
    },
    "kernelspec": {
      "name": "python3",
      "display_name": "Python 3"
    },
    "language_info": {
      "name": "python"
    }
  },
  "cells": [
    {
      "cell_type": "markdown",
      "metadata": {
        "id": "view-in-github",
        "colab_type": "text"
      },
      "source": [
        "<a href=\"https://colab.research.google.com/github/trifarameliniaa/SKRIPSI/blob/main/Skripsi_Citra.ipynb\" target=\"_parent\"><img src=\"https://colab.research.google.com/assets/colab-badge.svg\" alt=\"Open In Colab\"/></a>"
      ]
    },
    {
      "cell_type": "code",
      "source": [
        "from PIL import Image\n",
        "import PIL.ImageOps"
      ],
      "metadata": {
        "id": "dtvhUxNTaHEZ"
      },
      "execution_count": 23,
      "outputs": []
    },
    {
      "cell_type": "code",
      "execution_count": 24,
      "metadata": {
        "id": "I2kc4TixYTVK"
      },
      "outputs": [],
      "source": [
        "import numpy as np\n",
        "import matplotlib.pyplot as plt\n",
        "import cv2"
      ]
    },
    {
      "cell_type": "code",
      "source": [
        "img = cv2.imread('/content/penyakit-daun-tanaman.jpg')"
      ],
      "metadata": {
        "id": "YuyUSQ70Ysb_"
      },
      "execution_count": 35,
      "outputs": []
    },
    {
      "cell_type": "code",
      "source": [
        "img.size"
      ],
      "metadata": {
        "colab": {
          "base_uri": "https://localhost:8080/"
        },
        "id": "eJZN3y4JZ0bd",
        "outputId": "e4e0f440-db02-4458-aeb1-877d8acec23d"
      },
      "execution_count": 26,
      "outputs": [
        {
          "output_type": "execute_result",
          "data": {
            "text/plain": [
              "150975"
            ]
          },
          "metadata": {},
          "execution_count": 26
        }
      ]
    },
    {
      "cell_type": "code",
      "source": [
        "img_array = np.array(img)\n",
        "img_array"
      ],
      "metadata": {
        "colab": {
          "base_uri": "https://localhost:8080/"
        },
        "id": "CpNb5NPmbPyc",
        "outputId": "7cf8da4a-817d-4ff7-b882-dc7ffff867d3"
      },
      "execution_count": 36,
      "outputs": [
        {
          "output_type": "execute_result",
          "data": {
            "text/plain": [
              "array([[[14, 71, 40],\n",
              "        [13, 70, 39],\n",
              "        [15, 69, 39],\n",
              "        ...,\n",
              "        [ 6, 44, 26],\n",
              "        [ 6, 44, 26],\n",
              "        [ 6, 44, 26]],\n",
              "\n",
              "       [[14, 71, 40],\n",
              "        [14, 71, 40],\n",
              "        [15, 69, 39],\n",
              "        ...,\n",
              "        [ 5, 44, 23],\n",
              "        [ 5, 43, 25],\n",
              "        [ 5, 43, 25]],\n",
              "\n",
              "       [[15, 72, 41],\n",
              "        [14, 71, 40],\n",
              "        [14, 71, 40],\n",
              "        ...,\n",
              "        [ 5, 44, 23],\n",
              "        [ 5, 43, 25],\n",
              "        [ 5, 43, 25]],\n",
              "\n",
              "       ...,\n",
              "\n",
              "       [[ 1, 56, 11],\n",
              "        [ 0, 56, 11],\n",
              "        [ 0, 55, 10],\n",
              "        ...,\n",
              "        [24, 62, 44],\n",
              "        [24, 62, 44],\n",
              "        [24, 61, 45]],\n",
              "\n",
              "       [[ 0, 56, 11],\n",
              "        [ 0, 56, 11],\n",
              "        [ 0, 57, 12],\n",
              "        ...,\n",
              "        [22, 59, 43],\n",
              "        [22, 59, 43],\n",
              "        [22, 58, 44]],\n",
              "\n",
              "       [[ 0, 58, 13],\n",
              "        [ 0, 58, 13],\n",
              "        [ 0, 58, 13],\n",
              "        ...,\n",
              "        [21, 57, 43],\n",
              "        [22, 57, 43],\n",
              "        [22, 56, 45]]], dtype=uint8)"
            ]
          },
          "metadata": {},
          "execution_count": 36
        }
      ]
    }
  ]
}